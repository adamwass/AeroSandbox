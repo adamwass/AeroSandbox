{
 "cells": [
  {
   "cell_type": "markdown",
   "metadata": {
    "collapsed": true,
    "pycharm": {
     "name": "#%% md\n"
    }
   },
   "source": [
    "# Rocket Problem with AeroSandbox Dynamics Engine\n",
    "\n",
    "## Overview of the Dynamics Engine\n",
    "\n",
    "### Overview & Motivation\n",
    "\n",
    "In aerospace problems, we often end up with system dynamics that look (relatively) similar: our objects of interest are (roughly) rigid bodies moving around in 3D space (which we sometimes approximate as 2D or 1D).\n",
    "\n",
    "While there's nothing wrong with implementing the dynamics manually for a problem [as we did in the previous tutorial](./01%20-%20Rocket%20Problem%20with%20Manual%20Dynamics.ipynb), it's a bit tedious and error-prone to manually implement the same dynamics every time we want to simulate an aerospace system.\n",
    "\n",
    "So, AeroSandbox provides some (optional) shorthands that can be used to save hundreds of lines of code.\n",
    "\n",
    "### Definitions, Coordinate Systems, and Assumptions\n",
    "\n",
    "AeroSandbox's 3D dynamics engine essentially implements the full (nonlinear) equations of motion from Chapter 9 of [*\"Flight Vehicle Aerodynamics\"* by Mark Drela](https://mitpress.mit.edu/books/flight-vehicle-aerodynamics), along with the same (standard) coordinate system assumptions.\n",
    "\n",
    "First, we define relevant axes systems:\n",
    "\n",
    "* Earth Axes: Using the North, East, Down (NED) convention. Note that this implies some things:\n",
    "    * $z_e$ **points down!** If you want altitude, you want $-z_e$.\n",
    "    * Assumes negligible local curvature of the earth. Don't use this for your hypersonic vehicles without corrections.\n",
    "* Body Axes: An axis system that is \"painted on\" (i.e., rotates with) the vehicle. Uses the convention where:\n",
    "    * $x_b$ points forward on the vehicle.\n",
    "    * $y_b$ points rightward on the vehicle.\n",
    "    * $z_b$ points down on the vehicle.\n",
    "\n",
    "  In other words, body axes are equivalent to geometry axes rotated 180° about the $y_g$ axis.\n",
    "\n",
    "Specifically, we parameterize the state of a rigid 3D body in space with the following 12 state variables:\n",
    "\n",
    "* $x_e$: $x$-position, in Earth axes. [meters]\n",
    "* $y_e$: $y$-position, in Earth axes. [meters]\n",
    "* $z_e$: $z$-position, in Earth axes. [meters]\n",
    "* $u$: $x$-velocity, in body axes. [m/s]\n",
    "* $v$: $y$-velocity, in body axes. [m/s]\n",
    "* $w$: $z$-velocity, in body axes. [m/s]\n",
    "* $\\phi$: roll angle. Uses yaw-pitch-roll Euler angle convention. [rad]\n",
    "* $\\theta$: pitch angle. Uses yaw-pitch-roll Euler angle convention. [rad]\n",
    "* $\\psi$: yaw angle. Uses yaw-pitch-roll Euler angle convention. [rad]\n",
    "* $p$: $x$-angular-velocity, in body axes. [rad/sec]\n",
    "* $q$: $y$-angular-velocity, in body axes. [rad/sec]\n",
    "* $r$: $z$-angular-velocity, in body axes. [rad/sec]\n",
    "\n",
    "Force inputs to the system can be declared using the following inputs (in body axes):\n",
    "\n",
    "* $X$: $x_b$-direction force. [N]\n",
    "* $Y$: $y_b$-direction force. [N]\n",
    "* $Z$: $z_b$-direction force. [N]\n",
    "* $L$: Moment about the $x_b$-axis. Assumed these moments are applied about the center of mass. [Nm]\n",
    "* $M$: Moment about the $y_b$-axis. Assumed these moments are applied about the center of mass. [Nm]\n",
    "* $N$: Moment about the $z_b$-axis. Assumed these moments are applied about the center of mass. [Nm]\n",
    "\n",
    "Mass properties are also defined:\n",
    "* $m$: Mass of the body. [kg]\n",
    "* $I_{xx}$: Respective component of the (symmetric) moment of inertia tensor.\n",
    "* $I_{yy}$: Respective component of the (symmetric) moment of inertia tensor.\n",
    "* $I_{zz}$: Respective component of the (symmetric) moment of inertia tensor.\n",
    "* $I_{xy}$: Respective component of the (symmetric) moment of inertia tensor.\n",
    "* $I_{xz}$: Respective component of the (symmetric) moment of inertia tensor.\n",
    "* $I_{yz}$: Respective component of the (symmetric) moment of inertia tensor.\n",
    "\n",
    "As are a few other quantities:\n",
    "* $g$: Magnitude of gravitational acceleration. Assumed to act in the $z_e$ (\"downward\") direction, so a nominal value would be `9.81`. [m/s^2]\n",
    "* $h_x$: $x_b$-component of onboard angular momentum (e.g. propellers), in body axes. [kg*m^2/sec]\n",
    "* $h_y$: $y_b$-component of onboard angular momentum (e.g. propellers), in body axes. [kg*m^2/sec]\n",
    "* $h_z$: $z_b$-component of onboard angular momentum (e.g. propellers), in body axes. [kg*m^2/sec]\n",
    "\n",
    "## Example on Rocket Problem\n",
    "\n",
    "Here, we pose the same rocket optimal control problem using the AeroSandbox dynamics engine."
   ]
  },
  {
   "cell_type": "code",
   "execution_count": 2,
   "outputs": [
    {
     "name": "stdout",
     "output_type": "stream",
     "text": [
      "Solved in 16 iterations.\n",
      "DynamicsPointMass1DVertical instance:\n",
      "\tState variables:\n",
      "\t\t     z_e: [ 0.00000000e+00 -2.73700089e+01 -1.2...\n",
      "\t\t     w_e: [ 3.49175374e-248 -2.73152689e+002 -7...\n",
      "\tControl variables:\n",
      "\t\t    Fz_e: [-1.16379952e+08 -1.13926397e+09 -8.2...\n"
     ]
    }
   ],
   "source": [
    "import aerosandbox as asb\n",
    "import aerosandbox.numpy as np\n",
    "\n",
    "### Environment\n",
    "opti = asb.Opti()\n",
    "\n",
    "### Time discretization\n",
    "N = 500  # Number of discretization points\n",
    "time_final = 100  # seconds\n",
    "time = np.linspace(0, time_final, N)\n",
    "\n",
    "### Constants\n",
    "mass_initial = 500e3  # Initial mass, 500 metric tons\n",
    "z_e_final = -100e3  # Final altitude, 100 km\n",
    "g = 9.81  # Gravity, m/s^2\n",
    "alpha = 1 / (300 * g)  # kg/(N*s), Inverse of specific impulse, basically - don't worry about this\n",
    "\n",
    "dyn = asb.DynamicsPointMass1DVertical(\n",
    "    mass_props=asb.MassProperties(mass=opti.variable(init_guess=mass_initial, n_vars=N)),\n",
    "    z_e=opti.variable(init_guess=np.linspace(0, z_e_final, N)),  # Altitude (negative due to Earth-axes convention)\n",
    "    w_e=opti.variable(init_guess=-z_e_final / time_final, n_vars=N),  # Velocity\n",
    ")\n",
    "\n",
    "dyn.add_gravity_force(g=g)\n",
    "thrust = opti.variable(init_guess=g * mass_initial, n_vars=N)\n",
    "dyn.add_force(Fz=-thrust)\n",
    "\n",
    "dyn.constrain_derivatives(\n",
    "    opti=opti,\n",
    "    time=time,\n",
    ")\n",
    "\n",
    "### Fuel burn\n",
    "opti.constrain_derivative(\n",
    "    derivative=-alpha * thrust,\n",
    "    variable=dyn.mass_props.mass,\n",
    "    with_respect_to=time,\n",
    "    method=\"midpoint\",\n",
    ")\n",
    "\n",
    "### Boundary conditions\n",
    "opti.subject_to([\n",
    "    dyn.z_e[0] == 0,\n",
    "    dyn.w_e[0] == 0,\n",
    "    dyn.mass_props.mass[0] == mass_initial,\n",
    "    dyn.z_e[-1] == z_e_final,\n",
    "])\n",
    "\n",
    "### Path constraints\n",
    "opti.subject_to([\n",
    "    dyn.mass_props.mass >= 0,\n",
    "    thrust >= 0\n",
    "])\n",
    "\n",
    "### Objective\n",
    "opti.minimize(-dyn.mass_props.mass[-1])  # Maximize the final mass == minimize fuel expenditure\n",
    "\n",
    "### Solve\n",
    "sol = opti.solve(verbose=False)\n",
    "print(f\"Solved in {sol.stats()['iter_count']} iterations.\")\n",
    "dyn.substitute_solution(sol)\n",
    "\n",
    "print(dyn)"
   ],
   "metadata": {
    "collapsed": false,
    "pycharm": {
     "name": "#%%\n"
    }
   }
  },
  {
   "cell_type": "markdown",
   "source": [
    "Cool, so the problem solves!\n",
    "\n",
    "This is an instance where the abstraction provided by the AeroSandbox dynamics engine isn't really needed. The dynamics here are so simple (they're 1-dimensional!) that we can just as easily implement our own integrators.\n",
    "\n",
    "But where the dynamics engine really shines is when problems get more complicated - 2D and 3D problems with gyroscopic effects, interacting flight dynamics modes, etc. Let's take a look at an example in the following tutorial."
   ],
   "metadata": {
    "collapsed": false
   }
  }
 ],
 "metadata": {
  "kernelspec": {
   "display_name": "Python 3",
   "language": "python",
   "name": "python3"
  },
  "language_info": {
   "codemirror_mode": {
    "name": "ipython",
    "version": 2
   },
   "file_extension": ".py",
   "mimetype": "text/x-python",
   "name": "python",
   "nbconvert_exporter": "python",
   "pygments_lexer": "ipython2",
   "version": "2.7.6"
  }
 },
 "nbformat": 4,
 "nbformat_minor": 0
}