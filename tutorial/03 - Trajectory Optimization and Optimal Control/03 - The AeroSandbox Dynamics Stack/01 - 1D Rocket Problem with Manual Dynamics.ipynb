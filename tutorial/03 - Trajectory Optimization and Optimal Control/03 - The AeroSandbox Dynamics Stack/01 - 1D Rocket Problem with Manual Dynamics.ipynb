{
 "cells": [
  {
   "cell_type": "markdown",
   "source": [
    "# Rocket Problem with Manual Dynamics\n",
    "\n",
    "Here, we solve a rocket optimal control problem: the same one previously posed in the [problem scaling tutorial](../../01%20-%20Optimization%20and%20Math/07%20-%20Problem%20Scaling.ipynb), and originally formulated on [the CasADi blog](https://web.casadi.org/blog/nlp-scaling/). In that tutorial section, we merely used this problem as an example to illustrate the importance of problem scaling.\n",
    "\n",
    "Here, we dive deeper and show how you would set up such a problem.\n",
    "\n",
    "The imports and initial problem setup are straightforward:"
   ],
   "metadata": {
    "collapsed": false
   }
  },
  {
   "cell_type": "code",
   "execution_count": 1,
   "metadata": {
    "collapsed": true,
    "pycharm": {
     "name": "#%%\n"
    }
   },
   "outputs": [],
   "source": [
    "import aerosandbox as asb\n",
    "import aerosandbox.numpy as np\n",
    "\n",
    "### Environment\n",
    "opti = asb.Opti()\n",
    "\n",
    "### Time discretization\n",
    "N = 100  # Number of discretization points\n",
    "time_final = 100  # seconds\n",
    "time = np.linspace(0, time_final, N)\n",
    "\n",
    "### Constants\n",
    "mass_initial = 500e3  # Initial mass, 500 metric tons\n",
    "y_final = 100e3  # Final altitude, 100 km\n",
    "g = 9.81  # Gravity, m/s^2\n",
    "alpha = 1 / (300 * g)  # kg/(N*s), Inverse of specific impulse, basically - don't worry about this\n",
    "\n",
    "### Variables\n",
    "y = opti.variable(init_guess=np.linspace(0, y_final, N))  # Altitude\n",
    "velocity = opti.variable(init_guess=y_final / time_final, n_vars=N)  # Velocity\n",
    "mass = opti.variable(init_guess=mass_initial, n_vars=N)  # Mass\n",
    "u = opti.variable(init_guess=g * mass_initial, n_vars=N)  # Control vector"
   ]
  },
  {
   "cell_type": "markdown",
   "source": [
    "Here's where it gets interesting. We can implement the dynamics as follows, where we *explicitly* write out the relationship between variables using constraints.\n",
    "\n",
    "This is the best approach if you want the most fine-grained control over exactly what is happening in the integrator:"
   ],
   "metadata": {
    "collapsed": false
   }
  },
  {
   "cell_type": "code",
   "execution_count": 2,
   "outputs": [
    {
     "data": {
      "text/plain": "[MX(fabs(opti0_lam_g_1)), MX(fabs(opti0_lam_g_2)), MX(fabs(opti0_lam_g_3))]"
     },
     "execution_count": 2,
     "metadata": {},
     "output_type": "execute_result"
    }
   ],
   "source": [
    "### Dynamics (implemented manually for now, we'll show you more sophisticated ways to do this in the Trajectory\n",
    "# Optimization part of the tutorial later on)\n",
    "opti.subject_to([  # Forward Euler, implemented manually for now\n",
    "    np.diff(y) == velocity[:-1] * np.diff(time),\n",
    "    np.diff(velocity) == (u[:-1] / mass[:-1] - g) * np.diff(time),\n",
    "    np.diff(mass) == (-alpha * u[:-1]) * np.diff(time)\n",
    "])"
   ],
   "metadata": {
    "collapsed": false,
    "pycharm": {
     "name": "#%%\n"
    }
   }
  },
  {
   "cell_type": "markdown",
   "source": [
    "We the continue to write out the problem, and solve it."
   ],
   "metadata": {
    "collapsed": false
   }
  },
  {
   "cell_type": "code",
   "execution_count": 3,
   "outputs": [
    {
     "name": "stdout",
     "output_type": "stream",
     "text": [
      "Solved in 14 iterations.\n"
     ]
    }
   ],
   "source": [
    "### Boundary conditions\n",
    "opti.subject_to([\n",
    "    y[0] == 0,\n",
    "    velocity[0] == 0,\n",
    "    mass[0] == mass_initial,\n",
    "    y[-1] == y_final\n",
    "])\n",
    "\n",
    "### Path constraints\n",
    "opti.subject_to([\n",
    "    mass >= 0,\n",
    "    u >= 0\n",
    "])\n",
    "\n",
    "### Objective\n",
    "opti.minimize(-mass[-1])  # Maximize the final mass == minimize fuel expenditure\n",
    "\n",
    "### Solve\n",
    "sol = opti.solve(verbose=False)\n",
    "print(f\"Solved in {sol.stats()['iter_count']} iterations.\")"
   ],
   "metadata": {
    "collapsed": false,
    "pycharm": {
     "name": "#%%\n"
    }
   }
  },
  {
   "cell_type": "markdown",
   "source": [
    "Okay, let's go back to that dynamics section of this problem - this part:\n",
    "\n",
    "```python\n",
    "opti.subject_to([  # Forward Euler, implemented manually for now\n",
    "    np.diff(y) == velocity[:-1] * np.diff(time),\n",
    "    np.diff(velocity) == (u[:-1] / mass[:-1] - g) * np.diff(time),\n",
    "    np.diff(mass) == (-alpha * u[:-1]) * np.diff(time)\n",
    "])\n",
    "```\n",
    "\n",
    "We are effectively defining derivatives here. For example, the first constraint basically implements a discrete version of the definition:\n",
    "\n",
    "$$ \\frac{dy}{dt} = v \\implies \\Delta y = \\int_{t_1}^{t_2} v(t)\\ dt$$\n",
    "\n",
    "by approximating it via the forward-Euler discretization:\n",
    "\n",
    "$$ \\Delta y \\approx v(t_1) \\cdot \\Delta t$$\n",
    "\n",
    "There are a couple of alternative ways that we could write this out, which are more abstracted and simple. For example, here's an alternate way of implementing the dynamics:"
   ],
   "metadata": {
    "collapsed": false,
    "pycharm": {
     "name": "#%% md\n"
    }
   }
  },
  {
   "cell_type": "code",
   "execution_count": 4,
   "outputs": [],
   "source": [
    "opti.constrain_derivative(\n",
    "    derivative=velocity,\n",
    "    variable=y,\n",
    "    with_respect_to=time,\n",
    ")\n",
    "opti.constrain_derivative(\n",
    "    derivative=u / mass - g,\n",
    "    variable=velocity,\n",
    "    with_respect_to=time,\n",
    ")\n",
    "opti.constrain_derivative(\n",
    "    derivative=-alpha * u,\n",
    "    variable=mass,\n",
    "    with_respect_to=time,\n",
    ")"
   ],
   "metadata": {
    "collapsed": false,
    "pycharm": {
     "name": "#%%\n"
    }
   }
  },
  {
   "cell_type": "markdown",
   "source": [
    "Personally, I think this is a lot more readable than the more-mathematical `opti.subject_to()` implementation above - but that's open to opinion."
   ],
   "metadata": {
    "collapsed": false
   }
  }
 ],
 "metadata": {
  "kernelspec": {
   "display_name": "Python 3",
   "language": "python",
   "name": "python3"
  },
  "language_info": {
   "codemirror_mode": {
    "name": "ipython",
    "version": 2
   },
   "file_extension": ".py",
   "mimetype": "text/x-python",
   "name": "python",
   "nbconvert_exporter": "python",
   "pygments_lexer": "ipython2",
   "version": "2.7.6"
  }
 },
 "nbformat": 4,
 "nbformat_minor": 0
}